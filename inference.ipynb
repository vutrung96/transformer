{
 "cells": [
  {
   "cell_type": "code",
   "execution_count": 1,
   "id": "097e4699-87da-49e7-9f44-55269e656ac7",
   "metadata": {},
   "outputs": [],
   "source": [
    "import orbax.checkpoint\n"
   ]
  },
  {
   "cell_type": "code",
   "execution_count": 1,
   "id": "240f0c6f-af5c-4fea-99e5-200882ff4658",
   "metadata": {},
   "outputs": [
    {
     "name": "stderr",
     "output_type": "stream",
     "text": [
      "2024-03-03 22:56:49.854918: W tensorflow/compiler/tf2tensorrt/utils/py_utils.cc:38] TF-TRT Warning: Could not find TensorRT\n"
     ]
    }
   ],
   "source": [
    "from clu import metrics\n",
    "from flax.training import train_state\n",
    "from flax import struct\n",
    "import random\n",
    "from flax import struct\n",
    "from clu import metrics\n",
    "from flax.training import train_state\n",
    "import optax\n",
    "\n",
    "import jax\n",
    "import jax.numpy as jnp\n",
    "from jax import grad, random\n",
    "import optax\n",
    "import orbax.checkpoint as ocp\n",
    "import wandb\n",
    "\n",
    "from models import unigram\n",
    "from data import load_data\n",
    "from const import VOCAB_SIZE\n",
    "from flax.training import orbax_utils\n",
    "\n",
    "EMBEDDING_DIM = 64\n",
    "BATCH_SIZE = 64\n",
    "CKPT_DIR = '/home/trung/transformer/ckpt/unigram'\n",
    "\n",
    "@struct.dataclass\n",
    "class Metrics(metrics.Collection):\n",
    "    accuracy: metrics.Accuracy\n",
    "    loss: metrics.Average.from_output('loss')\n",
    "\n",
    "class TrainState(train_state.TrainState):\n",
    "    metrics: Metrics\n",
    "\n",
    "def create_train_state(module, rng, learning_rate, momentum):\n",
    "    \"\"\"Creates an initial `TrainState`.\"\"\"\n",
    "    dummy = random.randint(key1, minval=0, maxval=10, shape=(10,))\n",
    "    params = module.init(rng, dummy)['params'] # initialize parameters by passing a template image\n",
    "    tx = optax.sgd(learning_rate, momentum)\n",
    "    return TrainState.create(\n",
    "      apply_fn=module.apply, params=params, tx=tx,\n",
    "      metrics=Metrics.empty())\n",
    "\n",
    "@jax.jit\n",
    "def train_step(state, batch):\n",
    "    \"\"\"Train for a single step.\"\"\"\n",
    "    def loss_fn(params):\n",
    "        logits = state.apply_fn({'params': params}, batch['x'])\n",
    "        loss = optax.softmax_cross_entropy_with_integer_labels(\n",
    "            logits=logits, labels=batch['y']).mean()\n",
    "        return loss\n",
    "    grad_fn = jax.grad(loss_fn)\n",
    "    grads = grad_fn(state.params)\n",
    "    state = state.apply_gradients(grads=grads)\n",
    "    return state \n",
    "\n",
    "@jax.jit \n",
    "def compute_metrics(*, state, batch):\n",
    "    logits = state.apply_fn({'params': state.params}, batch['x'])\n",
    "    loss = optax.softmax_cross_entropy_with_integer_labels(\n",
    "        logits=logits, labels=batch['y']).mean()\n",
    "    metric_updates = state.metrics.single_from_model_output(\n",
    "    logits=logits, labels=batch['y'], loss=loss)\n",
    "    metrics = state.metrics.merge(metric_updates)\n",
    "    state = state.replace(metrics=metrics)\n",
    "    return state\n",
    "\n",
    "@jax.jit\n",
    "def pred_step(state, x, key, T=10):\n",
    "    logits = state.apply_fn({'params': state.params}, x)\n",
    "    return jax.random.categorical(key, logits/T, axis=1)\n",
    "\n",
    "        \n",
    "model = unigram.UnigramModel(vocab_size=VOCAB_SIZE, embedding_dim=64)\n",
    "key1, key2 = random.split(random.key(0))\n"
   ]
  },
  {
   "cell_type": "code",
   "execution_count": 2,
   "id": "53e1ffdb-13dc-4748-bd63-7f771dc3b720",
   "metadata": {},
   "outputs": [],
   "source": [
    "learning_rate = 0.01\n",
    "momentum = 0.9\n",
    "\n",
    "init_rng = jax.random.key(0)\n",
    "state = create_train_state(model, init_rng, learning_rate, momentum)\n"
   ]
  },
  {
   "cell_type": "code",
   "execution_count": 3,
   "id": "27a6809f-6893-418c-9fcb-fb017185d145",
   "metadata": {},
   "outputs": [],
   "source": [
    "from clu import metrics\n",
    "from flax.training import train_state\n",
    "from flax import struct\n",
    "import random\n",
    "from flax import struct\n",
    "from clu import metrics\n",
    "from flax.training import train_state\n",
    "import optax\n",
    "\n",
    "import jax\n",
    "import jax.numpy as jnp\n",
    "from jax import grad, random\n",
    "import optax\n",
    "import orbax.checkpoint\n",
    "import wandb\n",
    "\n",
    "from models import unigram\n",
    "from data import load_data\n",
    "from const import VOCAB_SIZE\n",
    "from flax.training import orbax_utils\n",
    "\n",
    "\n",
    "options = ocp.CheckpointManagerOptions(max_to_keep=3)\n",
    "orbax_checkpointer = orbax.checkpoint.PyTreeCheckpointer()\n",
    "checkpoint_manager = orbax.checkpoint.CheckpointManager(\n",
    "    CKPT_DIR, options=options)\n",
    "\n"
   ]
  },
  {
   "cell_type": "code",
   "execution_count": 8,
   "id": "9dfff774-c38e-44c3-af4b-e69105cabb4f",
   "metadata": {},
   "outputs": [
    {
     "data": {
      "text/plain": [
       "{'config': {'step': 0},\n",
       " 'model': TrainState(step=0, apply_fn=<bound method Module.apply of UnigramModel(\n",
       "     # attributes\n",
       "     vocab_size = 40478\n",
       "     embedding_dim = 64\n",
       " )>, params={'Dense_0': {'bias': ShapeDtypeStruct(shape=(40478,), dtype=float32, sharding=SingleDeviceSharding(device=cuda(id=0))), 'kernel': ShapeDtypeStruct(shape=(64, 40478), dtype=float32, sharding=SingleDeviceSharding(device=cuda(id=0)))}, 'unigram': {'embedding': ShapeDtypeStruct(shape=(40478, 64), dtype=float32, sharding=SingleDeviceSharding(device=cuda(id=0)))}}, tx=GradientTransformationExtraArgs(init=<function chain.<locals>.init_fn at 0x7f4b5fea9bd0>, update=<function chain.<locals>.update_fn at 0x7f4b5fea9e10>), opt_state=(TraceState(trace={'Dense_0': {'bias': ShapeDtypeStruct(shape=(40478,), dtype=float32, sharding=SingleDeviceSharding(device=cuda(id=0))), 'kernel': ShapeDtypeStruct(shape=(64, 40478), dtype=float32, sharding=SingleDeviceSharding(device=cuda(id=0)))}, 'unigram': {'embedding': ShapeDtypeStruct(shape=(40478, 64), dtype=float32, sharding=SingleDeviceSharding(device=cuda(id=0)))}}), EmptyState()), metrics=Metrics(_reduction_counter=_ReductionCounter(value=ShapeDtypeStruct(shape=(), dtype=int32, sharding=SingleDeviceSharding(device=cuda(id=0)))), accuracy=Accuracy(total=ShapeDtypeStruct(shape=(), dtype=float32, sharding=SingleDeviceSharding(device=cuda(id=0))), count=ShapeDtypeStruct(shape=(), dtype=int32, sharding=SingleDeviceSharding(device=cuda(id=0)))), loss=Metric.from_output.<locals>.FromOutput(total=ShapeDtypeStruct(shape=(), dtype=float32, sharding=SingleDeviceSharding(device=cuda(id=0))), count=ShapeDtypeStruct(shape=(), dtype=int32, sharding=SingleDeviceSharding(device=cuda(id=0))))))}"
      ]
     },
     "execution_count": 8,
     "metadata": {},
     "output_type": "execute_result"
    }
   ],
   "source": [
    "ckpt_state = {\n",
    "    'model': state,\n",
    "    'config': {'step': 0}\n",
    "}\n",
    "abstract_state = jax.tree_util.tree_map(ocp.utils.to_shape_dtype_struct, ckpt_state)\n",
    "abstract_state"
   ]
  },
  {
   "cell_type": "code",
   "execution_count": 10,
   "id": "f00e1079-d1a3-4dc0-b510-823e10e5780d",
   "metadata": {},
   "outputs": [],
   "source": [
    "restored_state = checkpoint_manager.restore(checkpoint_manager.latest_step(), args=ocp.args.StandardRestore(abstract_state))"
   ]
  },
  {
   "cell_type": "code",
   "execution_count": 17,
   "id": "491e3a61-3a21-48fb-b7f8-17f90d37534e",
   "metadata": {},
   "outputs": [],
   "source": [
    "from transformers import AutoTokenizer\n",
    "\n",
    "tokenizer = AutoTokenizer.from_pretrained(\"openai-gpt\")\n",
    "\n"
   ]
  },
  {
   "cell_type": "code",
   "execution_count": 19,
   "id": "087515c5-a881-4312-8741-87cd11b3ea5e",
   "metadata": {},
   "outputs": [
    {
     "data": {
      "text/plain": [
       "Array([[19874]], dtype=int32)"
      ]
     },
     "execution_count": 19,
     "metadata": {},
     "output_type": "execute_result"
    }
   ],
   "source": []
  },
  {
   "cell_type": "code",
   "execution_count": 68,
   "id": "4f2274f3-eca7-47ee-be98-148e4a80c0b0",
   "metadata": {},
   "outputs": [],
   "source": [
    "def get_next_word(s):\n",
    "    encoded = tokenizer.encode(s, return_tensors=\"jax\")[0]\n",
    "    pred = pred_step(restored_state['model'], encoded, init_rng, T=1)\n",
    "    return tokenizer.decode(pred)"
   ]
  },
  {
   "cell_type": "code",
   "execution_count": 81,
   "id": "91042743-2a25-4a4f-a831-b4bb3f3330e8",
   "metadata": {},
   "outputs": [
    {
     "data": {
      "text/plain": [
       "'conditions'"
      ]
     },
     "execution_count": 81,
     "metadata": {},
     "output_type": "execute_result"
    }
   ],
   "source": [
    "get_next_word(\"weather\")"
   ]
  },
  {
   "cell_type": "code",
   "execution_count": 14,
   "id": "f60d32d5-9495-4c34-b89b-6482e606e525",
   "metadata": {},
   "outputs": [],
   "source": [
    "@struct.dataclass\n",
    "class Metrics(metrics.Collection):\n",
    "    accuracy: metrics.Accuracy\n",
    "    loss: metrics.Average.from_output('loss')\n",
    "\n",
    "class TrainState(train_state.TrainState):\n",
    "    metrics: Metrics\n",
    "\n",
    "def create_train_state(module, rng, learning_rate, momentum):\n",
    "    \"\"\"Creates an initial `TrainState`.\"\"\"\n",
    "    dummy = random.randint(key1, minval=0, maxval=10, shape=(10,))\n",
    "    params = module.init(rng, dummy)['params'] # initialize parameters by passing a template image\n",
    "    tx = optax.sgd(learning_rate, momentum)\n",
    "    return TrainState.create(\n",
    "      apply_fn=module.apply, params=params, tx=tx,\n",
    "      metrics=Metrics.empty())\n"
   ]
  },
  {
   "cell_type": "code",
   "execution_count": 22,
   "id": "3fc632f2-a19a-42fe-8efb-c91664821fc1",
   "metadata": {},
   "outputs": [
    {
     "ename": "ValueError",
     "evalue": "Unsupported value_metadata class: <class 'orbax.checkpoint.value_metadata.Metadata'>.",
     "output_type": "error",
     "traceback": [
      "\u001b[0;31m---------------------------------------------------------------------------\u001b[0m",
      "\u001b[0;31mValueError\u001b[0m                                Traceback (most recent call last)",
      "Cell \u001b[0;32mIn[22], line 1\u001b[0m\n\u001b[0;32m----> 1\u001b[0m \u001b[43mcheckpoint_manager\u001b[49m\u001b[38;5;241;43m.\u001b[39;49m\u001b[43mrestore\u001b[49m\u001b[43m(\u001b[49m\u001b[43mcheckpoint_manager\u001b[49m\u001b[38;5;241;43m.\u001b[39;49m\u001b[43mlatest_step\u001b[49m\u001b[43m(\u001b[49m\u001b[43m)\u001b[49m\u001b[43m)\u001b[49m\n",
      "File \u001b[0;32m~/miniconda3/envs/dl/lib/python3.10/site-packages/orbax/checkpoint/checkpoint_manager.py:867\u001b[0m, in \u001b[0;36mCheckpointManager.restore\u001b[0;34m(self, step, items, restore_kwargs, directory, args)\u001b[0m\n\u001b[1;32m    864\u001b[0m     args \u001b[38;5;241m=\u001b[39m typing\u001b[38;5;241m.\u001b[39mcast(args_lib\u001b[38;5;241m.\u001b[39mComposite, args)\n\u001b[1;32m    866\u001b[0m restore_directory \u001b[38;5;241m=\u001b[39m \u001b[38;5;28mself\u001b[39m\u001b[38;5;241m.\u001b[39m_get_save_directory(step, directory)\n\u001b[0;32m--> 867\u001b[0m restored \u001b[38;5;241m=\u001b[39m \u001b[38;5;28;43mself\u001b[39;49m\u001b[38;5;241;43m.\u001b[39;49m\u001b[43m_checkpointer\u001b[49m\u001b[38;5;241;43m.\u001b[39;49m\u001b[43mrestore\u001b[49m\u001b[43m(\u001b[49m\u001b[43mrestore_directory\u001b[49m\u001b[43m,\u001b[49m\u001b[43m \u001b[49m\u001b[43margs\u001b[49m\u001b[38;5;241;43m=\u001b[39;49m\u001b[43margs\u001b[49m\u001b[43m)\u001b[49m\n\u001b[1;32m    868\u001b[0m \u001b[38;5;28;01mif\u001b[39;00m \u001b[38;5;28mself\u001b[39m\u001b[38;5;241m.\u001b[39m_single_item:\n\u001b[1;32m    869\u001b[0m   \u001b[38;5;28;01mreturn\u001b[39;00m restored[DEFAULT_ITEM_NAME]\n",
      "File \u001b[0;32m~/miniconda3/envs/dl/lib/python3.10/site-packages/orbax/checkpoint/async_checkpointer.py:320\u001b[0m, in \u001b[0;36mAsyncCheckpointer.restore\u001b[0;34m(self, directory, *args, **kwargs)\u001b[0m\n\u001b[1;32m    318\u001b[0m \u001b[38;5;250m\u001b[39m\u001b[38;5;124;03m\"\"\"See superclass documentation.\"\"\"\u001b[39;00m\n\u001b[1;32m    319\u001b[0m \u001b[38;5;28mself\u001b[39m\u001b[38;5;241m.\u001b[39mwait_until_finished()\n\u001b[0;32m--> 320\u001b[0m \u001b[38;5;28;01mreturn\u001b[39;00m \u001b[38;5;28;43msuper\u001b[39;49m\u001b[43m(\u001b[49m\u001b[43m)\u001b[49m\u001b[38;5;241;43m.\u001b[39;49m\u001b[43mrestore\u001b[49m\u001b[43m(\u001b[49m\u001b[43mdirectory\u001b[49m\u001b[43m,\u001b[49m\u001b[43m \u001b[49m\u001b[38;5;241;43m*\u001b[39;49m\u001b[43margs\u001b[49m\u001b[43m,\u001b[49m\u001b[43m \u001b[49m\u001b[38;5;241;43m*\u001b[39;49m\u001b[38;5;241;43m*\u001b[39;49m\u001b[43mkwargs\u001b[49m\u001b[43m)\u001b[49m\n",
      "File \u001b[0;32m~/miniconda3/envs/dl/lib/python3.10/site-packages/orbax/checkpoint/checkpointer.py:166\u001b[0m, in \u001b[0;36mCheckpointer.restore\u001b[0;34m(self, directory, *args, **kwargs)\u001b[0m\n\u001b[1;32m    164\u001b[0m logging\u001b[38;5;241m.\u001b[39minfo(\u001b[38;5;124m'\u001b[39m\u001b[38;5;124mRestoring item from \u001b[39m\u001b[38;5;132;01m%s\u001b[39;00m\u001b[38;5;124m.\u001b[39m\u001b[38;5;124m'\u001b[39m, directory)\n\u001b[1;32m    165\u001b[0m ckpt_args \u001b[38;5;241m=\u001b[39m construct_checkpoint_args(\u001b[38;5;28mself\u001b[39m\u001b[38;5;241m.\u001b[39m_handler, \u001b[38;5;28;01mFalse\u001b[39;00m, \u001b[38;5;241m*\u001b[39margs, \u001b[38;5;241m*\u001b[39m\u001b[38;5;241m*\u001b[39mkwargs)\n\u001b[0;32m--> 166\u001b[0m restored \u001b[38;5;241m=\u001b[39m \u001b[38;5;28;43mself\u001b[39;49m\u001b[38;5;241;43m.\u001b[39;49m\u001b[43m_handler\u001b[49m\u001b[38;5;241;43m.\u001b[39;49m\u001b[43mrestore\u001b[49m\u001b[43m(\u001b[49m\u001b[43mdirectory\u001b[49m\u001b[43m,\u001b[49m\u001b[43m \u001b[49m\u001b[43margs\u001b[49m\u001b[38;5;241;43m=\u001b[39;49m\u001b[43mckpt_args\u001b[49m\u001b[43m)\u001b[49m\n\u001b[1;32m    167\u001b[0m logging\u001b[38;5;241m.\u001b[39minfo(\u001b[38;5;124m'\u001b[39m\u001b[38;5;124mFinished restoring checkpoint from \u001b[39m\u001b[38;5;132;01m%s\u001b[39;00m\u001b[38;5;124m.\u001b[39m\u001b[38;5;124m'\u001b[39m, directory)\n\u001b[1;32m    168\u001b[0m \u001b[38;5;28;01mreturn\u001b[39;00m restored\n",
      "File \u001b[0;32m~/miniconda3/envs/dl/lib/python3.10/site-packages/orbax/checkpoint/composite_checkpoint_handler.py:459\u001b[0m, in \u001b[0;36mCompositeCheckpointHandler.restore\u001b[0;34m(self, directory, args)\u001b[0m\n\u001b[1;32m    457\u001b[0m     \u001b[38;5;28;01mcontinue\u001b[39;00m\n\u001b[1;32m    458\u001b[0m   handler \u001b[38;5;241m=\u001b[39m \u001b[38;5;28mself\u001b[39m\u001b[38;5;241m.\u001b[39m_get_or_set_handler(item_name, arg)\n\u001b[0;32m--> 459\u001b[0m   restored[item_name] \u001b[38;5;241m=\u001b[39m \u001b[43mhandler\u001b[49m\u001b[38;5;241;43m.\u001b[39;49m\u001b[43mrestore\u001b[49m\u001b[43m(\u001b[49m\n\u001b[1;32m    460\u001b[0m \u001b[43m      \u001b[49m\u001b[38;5;28;43mself\u001b[39;49m\u001b[38;5;241;43m.\u001b[39;49m\u001b[43m_get_item_directory\u001b[49m\u001b[43m(\u001b[49m\u001b[43mdirectory\u001b[49m\u001b[43m,\u001b[49m\u001b[43m \u001b[49m\u001b[43mitem_name\u001b[49m\u001b[43m)\u001b[49m\u001b[43m,\u001b[49m\u001b[43m \u001b[49m\u001b[43margs\u001b[49m\u001b[38;5;241;43m=\u001b[39;49m\u001b[43marg\u001b[49m\n\u001b[1;32m    461\u001b[0m \u001b[43m  \u001b[49m\u001b[43m)\u001b[49m\n\u001b[1;32m    462\u001b[0m \u001b[38;5;28;01mreturn\u001b[39;00m CompositeResults(\u001b[38;5;241m*\u001b[39m\u001b[38;5;241m*\u001b[39mrestored)\n",
      "File \u001b[0;32m~/miniconda3/envs/dl/lib/python3.10/site-packages/orbax/checkpoint/standard_checkpoint_handler.py:162\u001b[0m, in \u001b[0;36mStandardCheckpointHandler.restore\u001b[0;34m(self, directory, item, args)\u001b[0m\n\u001b[1;32m    160\u001b[0m   restore_args \u001b[38;5;241m=\u001b[39m checkpoint_utils\u001b[38;5;241m.\u001b[39mconstruct_restore_args(args\u001b[38;5;241m.\u001b[39mitem)\n\u001b[1;32m    161\u001b[0m \u001b[38;5;28;01melse\u001b[39;00m:\n\u001b[0;32m--> 162\u001b[0m   restore_args \u001b[38;5;241m=\u001b[39m \u001b[43mcheckpoint_utils\u001b[49m\u001b[38;5;241;43m.\u001b[39;49m\u001b[43mconstruct_restore_args\u001b[49m\u001b[43m(\u001b[49m\n\u001b[1;32m    163\u001b[0m \u001b[43m      \u001b[49m\u001b[38;5;28;43mself\u001b[39;49m\u001b[38;5;241;43m.\u001b[39;49m\u001b[43mmetadata\u001b[49m\u001b[43m(\u001b[49m\u001b[43mdirectory\u001b[49m\u001b[43m)\u001b[49m\n\u001b[1;32m    164\u001b[0m \u001b[43m  \u001b[49m\u001b[43m)\u001b[49m\n\u001b[1;32m    165\u001b[0m \u001b[38;5;28;01mreturn\u001b[39;00m \u001b[38;5;28msuper\u001b[39m()\u001b[38;5;241m.\u001b[39mrestore(\n\u001b[1;32m    166\u001b[0m     directory,\n\u001b[1;32m    167\u001b[0m     args\u001b[38;5;241m=\u001b[39mpytree_checkpoint_handler\u001b[38;5;241m.\u001b[39mPyTreeRestoreArgs(\n\u001b[1;32m    168\u001b[0m         item\u001b[38;5;241m=\u001b[39margs\u001b[38;5;241m.\u001b[39mitem, restore_args\u001b[38;5;241m=\u001b[39mrestore_args\n\u001b[1;32m    169\u001b[0m     ),\n\u001b[1;32m    170\u001b[0m )\n",
      "File \u001b[0;32m~/miniconda3/envs/dl/lib/python3.10/site-packages/orbax/checkpoint/checkpoint_utils.py:431\u001b[0m, in \u001b[0;36mconstruct_restore_args\u001b[0;34m(target, sharding_tree, set_global_shape)\u001b[0m\n\u001b[1;32m    427\u001b[0m \u001b[38;5;28;01mif\u001b[39;00m sharding_tree \u001b[38;5;129;01mis\u001b[39;00m \u001b[38;5;28;01mNone\u001b[39;00m:\n\u001b[1;32m    428\u001b[0m   sharding_tree \u001b[38;5;241m=\u001b[39m jax\u001b[38;5;241m.\u001b[39mtree_util\u001b[38;5;241m.\u001b[39mtree_map(\n\u001b[1;32m    429\u001b[0m       \u001b[38;5;28;01mlambda\u001b[39;00m x: x\u001b[38;5;241m.\u001b[39msharding \u001b[38;5;28;01mif\u001b[39;00m \u001b[38;5;28mhasattr\u001b[39m(x, \u001b[38;5;124m'\u001b[39m\u001b[38;5;124msharding\u001b[39m\u001b[38;5;124m'\u001b[39m) \u001b[38;5;28;01melse\u001b[39;00m \u001b[38;5;28;01mNone\u001b[39;00m, target\n\u001b[1;32m    430\u001b[0m   )\n\u001b[0;32m--> 431\u001b[0m \u001b[38;5;28;01mreturn\u001b[39;00m \u001b[43mjax\u001b[49m\u001b[38;5;241;43m.\u001b[39;49m\u001b[43mtree_util\u001b[49m\u001b[38;5;241;43m.\u001b[39;49m\u001b[43mtree_map\u001b[49m\u001b[43m(\u001b[49m\u001b[43m_restore_args\u001b[49m\u001b[43m,\u001b[49m\u001b[43m \u001b[49m\u001b[43mtarget\u001b[49m\u001b[43m,\u001b[49m\u001b[43m \u001b[49m\u001b[43msharding_tree\u001b[49m\u001b[43m)\u001b[49m\n",
      "File \u001b[0;32m~/miniconda3/envs/dl/lib/python3.10/site-packages/jax/_src/tree_util.py:312\u001b[0m, in \u001b[0;36mtree_map\u001b[0;34m(f, tree, is_leaf, *rest)\u001b[0m\n\u001b[1;32m    310\u001b[0m leaves, treedef \u001b[38;5;241m=\u001b[39m tree_flatten(tree, is_leaf)\n\u001b[1;32m    311\u001b[0m all_leaves \u001b[38;5;241m=\u001b[39m [leaves] \u001b[38;5;241m+\u001b[39m [treedef\u001b[38;5;241m.\u001b[39mflatten_up_to(r) \u001b[38;5;28;01mfor\u001b[39;00m r \u001b[38;5;129;01min\u001b[39;00m rest]\n\u001b[0;32m--> 312\u001b[0m \u001b[38;5;28;01mreturn\u001b[39;00m \u001b[43mtreedef\u001b[49m\u001b[38;5;241;43m.\u001b[39;49m\u001b[43munflatten\u001b[49m\u001b[43m(\u001b[49m\u001b[43mf\u001b[49m\u001b[43m(\u001b[49m\u001b[38;5;241;43m*\u001b[39;49m\u001b[43mxs\u001b[49m\u001b[43m)\u001b[49m\u001b[43m \u001b[49m\u001b[38;5;28;43;01mfor\u001b[39;49;00m\u001b[43m \u001b[49m\u001b[43mxs\u001b[49m\u001b[43m \u001b[49m\u001b[38;5;129;43;01min\u001b[39;49;00m\u001b[43m \u001b[49m\u001b[38;5;28;43mzip\u001b[39;49m\u001b[43m(\u001b[49m\u001b[38;5;241;43m*\u001b[39;49m\u001b[43mall_leaves\u001b[49m\u001b[43m)\u001b[49m\u001b[43m)\u001b[49m\n",
      "File \u001b[0;32m~/miniconda3/envs/dl/lib/python3.10/site-packages/jax/_src/tree_util.py:312\u001b[0m, in \u001b[0;36m<genexpr>\u001b[0;34m(.0)\u001b[0m\n\u001b[1;32m    310\u001b[0m leaves, treedef \u001b[38;5;241m=\u001b[39m tree_flatten(tree, is_leaf)\n\u001b[1;32m    311\u001b[0m all_leaves \u001b[38;5;241m=\u001b[39m [leaves] \u001b[38;5;241m+\u001b[39m [treedef\u001b[38;5;241m.\u001b[39mflatten_up_to(r) \u001b[38;5;28;01mfor\u001b[39;00m r \u001b[38;5;129;01min\u001b[39;00m rest]\n\u001b[0;32m--> 312\u001b[0m \u001b[38;5;28;01mreturn\u001b[39;00m treedef\u001b[38;5;241m.\u001b[39munflatten(\u001b[43mf\u001b[49m\u001b[43m(\u001b[49m\u001b[38;5;241;43m*\u001b[39;49m\u001b[43mxs\u001b[49m\u001b[43m)\u001b[49m \u001b[38;5;28;01mfor\u001b[39;00m xs \u001b[38;5;129;01min\u001b[39;00m \u001b[38;5;28mzip\u001b[39m(\u001b[38;5;241m*\u001b[39mall_leaves))\n",
      "File \u001b[0;32m~/miniconda3/envs/dl/lib/python3.10/site-packages/orbax/checkpoint/checkpoint_utils.py:416\u001b[0m, in \u001b[0;36mconstruct_restore_args.<locals>._restore_args\u001b[0;34m(value, sharding)\u001b[0m\n\u001b[1;32m    414\u001b[0m       \u001b[38;5;28;01mreturn\u001b[39;00m _array_restore_args(value, sharding, dtype)\n\u001b[1;32m    415\u001b[0m   \u001b[38;5;28;01melse\u001b[39;00m:\n\u001b[0;32m--> 416\u001b[0m     \u001b[38;5;28;01mraise\u001b[39;00m \u001b[38;5;167;01mValueError\u001b[39;00m(\u001b[38;5;124mf\u001b[39m\u001b[38;5;124m'\u001b[39m\u001b[38;5;124mUnsupported value_metadata class: \u001b[39m\u001b[38;5;132;01m{\u001b[39;00m\u001b[38;5;28mtype\u001b[39m(value)\u001b[38;5;132;01m}\u001b[39;00m\u001b[38;5;124m.\u001b[39m\u001b[38;5;124m'\u001b[39m)\n\u001b[1;32m    417\u001b[0m \u001b[38;5;28;01melif\u001b[39;00m \u001b[38;5;28misinstance\u001b[39m(value, STANDARD_ARRAY_TYPES):\n\u001b[1;32m    418\u001b[0m   \u001b[38;5;28;01mif\u001b[39;00m \u001b[38;5;129;01mnot\u001b[39;00m \u001b[38;5;28misinstance\u001b[39m(value, jax\u001b[38;5;241m.\u001b[39mArray):\n",
      "\u001b[0;31mValueError\u001b[0m: Unsupported value_metadata class: <class 'orbax.checkpoint.value_metadata.Metadata'>."
     ]
    }
   ],
   "source": []
  }
 ],
 "metadata": {
  "kernelspec": {
   "display_name": "Python 3 (ipykernel)",
   "language": "python",
   "name": "python3"
  },
  "language_info": {
   "codemirror_mode": {
    "name": "ipython",
    "version": 3
   },
   "file_extension": ".py",
   "mimetype": "text/x-python",
   "name": "python",
   "nbconvert_exporter": "python",
   "pygments_lexer": "ipython3",
   "version": "3.10.13"
  }
 },
 "nbformat": 4,
 "nbformat_minor": 5
}
